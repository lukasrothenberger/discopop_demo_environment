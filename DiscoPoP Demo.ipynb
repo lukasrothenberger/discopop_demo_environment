{
 "cells": [
  {
   "cell_type": "markdown",
   "id": "4422af5f",
   "metadata": {},
   "source": [
    "## Sample code\n",
    "Modify and execute the following cell to save changes."
   ]
  },
  {
   "cell_type": "code",
   "execution_count": 38,
   "id": "f5b75452",
   "metadata": {},
   "outputs": [
    {
     "name": "stdout",
     "output_type": "stream",
     "text": [
      "Overwriting sample_code.cpp\n"
     ]
    }
   ],
   "source": [
    "%%file sample_code.cpp\n",
    "//######################### Only modify file contents below this line\n",
    "\n",
    "#include <stdlib.h>\n",
    "#include <stdio.h>\n",
    "\n",
    "int main(){\n",
    "    int x = 42;\n",
    "    int y = 42;\n",
    "    #pragma omp parallel\n",
    "    {\n",
    "    #pragma omp for\n",
    "    for(int i = 0; i < 100; i++){\n",
    "        x = x + i;\n",
    "    }\n",
    "    }\n",
    "    printf(\"The answer is: %d\\n\", x);\n",
    "}"
   ]
  },
  {
   "cell_type": "markdown",
   "id": "82c5866c",
   "metadata": {},
   "source": [
    "## Execute DiscoPoP profiling\n",
    "Execute the following cell in order to execute the DiscoPoP profiling for the sample code and generate parallelization suggestions."
   ]
  },
  {
   "cell_type": "code",
   "execution_count": null,
   "id": "8e4570b9",
   "metadata": {},
   "outputs": [],
   "source": [
    "%%bash\n",
    "####### Execute DiscoPoP profiling\n",
    "./run_dp_maker.sh &> /dev/null"
   ]
  },
  {
   "cell_type": "markdown",
   "id": "bfc1c83e",
   "metadata": {},
   "source": [
    "## Create parallelization suggestions\n",
    "Execute the following cell after executing the DiscoPoP profiling in order to generate and show parallelization suggestions for the sample code.\n",
    "<br>\n",
    "Note: Line numbers of parallelization suggestions are to be increased by one as a result of the first and necessary line in the sample file: `%%file ..`."
   ]
  },
  {
   "cell_type": "code",
   "execution_count": null,
   "id": "35f64273",
   "metadata": {
    "scrolled": true
   },
   "outputs": [],
   "source": [
    "%%bash\n",
    "####### Create and show parallelization suggestions\n",
    "./create_suggestions.sh\n",
    "cat original_suggestions.json"
   ]
  },
  {
   "cell_type": "markdown",
   "id": "0ae7fdd5",
   "metadata": {},
   "source": [
    "## Validate parallelization - Detect data races\n",
    "Execute the following cell after previously executing the DiscoPoP profiling.\n",
    "Modifications which only target OpenMP pragmas in the sample code do not lead to the necessity for a re-profiling of the sample program.\n",
    "<br>\n",
    "Format of detected data races: `<line> <var_name>`\n",
    "<br>\n",
    "Note: Line numbers of detected data races are to be increased by one as a result of the first and necessary line in the sample file: `%%file ..`."
   ]
  },
  {
   "cell_type": "code",
   "execution_count": 39,
   "id": "2e41535c",
   "metadata": {
    "scrolled": true
   },
   "outputs": [
    {
     "name": "stdout",
     "output_type": "stream",
     "text": [
      "Detected data races:\n",
      "13 x\n"
     ]
    }
   ],
   "source": [
    "%%bash\n",
    "####### Execute data race detection on sample code\n",
    "## execute following command for \"safe\" mode (trigger profiling manually)\n",
    "./run_dp_maker.sh &> /dev/null\n",
    "##\n",
    "./run_data_race_detection.sh &> /dev/null\n",
    "echo \"Detected data races:\"\n",
    "cat data_races.txt\n"
   ]
  },
  {
   "cell_type": "code",
   "execution_count": null,
   "id": "c811ebf8",
   "metadata": {},
   "outputs": [],
   "source": []
  }
 ],
 "metadata": {
  "kernelspec": {
   "display_name": "Python 3 (ipykernel)",
   "language": "python",
   "name": "python3"
  },
  "language_info": {
   "codemirror_mode": {
    "name": "ipython",
    "version": 3
   },
   "file_extension": ".py",
   "mimetype": "text/x-python",
   "name": "python",
   "nbconvert_exporter": "python",
   "pygments_lexer": "ipython3",
   "version": "3.10.4"
  }
 },
 "nbformat": 4,
 "nbformat_minor": 5
}
